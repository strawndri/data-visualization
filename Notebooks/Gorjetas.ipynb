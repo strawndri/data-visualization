{
  "nbformat": 4,
  "nbformat_minor": 0,
  "metadata": {
    "colab": {
      "name": "Gorjetas.ipynb",
      "provenance": [],
      "include_colab_link": true
    },
    "kernelspec": {
      "name": "python3",
      "display_name": "Python 3"
    },
    "language_info": {
      "name": "python"
    }
  },
  "cells": [
    {
      "cell_type": "markdown",
      "metadata": {
        "id": "view-in-github",
        "colab_type": "text"
      },
      "source": [
        "<a href=\"https://colab.research.google.com/github/strawndri/data-visualization/blob/main/Notebooks/Gorjetas.ipynb\" target=\"_parent\"><img src=\"https://colab.research.google.com/assets/colab-badge.svg\" alt=\"Open In Colab\"/></a>"
      ]
    },
    {
      "cell_type": "markdown",
      "metadata": {
        "id": "_s4AQrYPApDy"
      },
      "source": [
        "#Importações"
      ]
    },
    {
      "cell_type": "code",
      "metadata": {
        "id": "KNhef-xUAug6",
        "outputId": "8b9cee4c-fb3e-4ab2-a6a6-f02f35a2e240",
        "colab": {
          "base_uri": "https://localhost:8080/"
        }
      },
      "source": [
        "import pandas as pd\n",
        "\n",
        "!pip install seaborn\n",
        "import seaborn as sns"
      ],
      "execution_count": 3,
      "outputs": [
        {
          "output_type": "stream",
          "name": "stdout",
          "text": [
            "Requirement already satisfied: seaborn in /usr/local/lib/python3.7/dist-packages (0.11.1)\n",
            "Requirement already satisfied: scipy>=1.0 in /usr/local/lib/python3.7/dist-packages (from seaborn) (1.4.1)\n",
            "Requirement already satisfied: numpy>=1.15 in /usr/local/lib/python3.7/dist-packages (from seaborn) (1.19.5)\n",
            "Requirement already satisfied: pandas>=0.23 in /usr/local/lib/python3.7/dist-packages (from seaborn) (1.1.5)\n",
            "Requirement already satisfied: matplotlib>=2.2 in /usr/local/lib/python3.7/dist-packages (from seaborn) (3.2.2)\n",
            "Requirement already satisfied: pyparsing!=2.0.4,!=2.1.2,!=2.1.6,>=2.0.1 in /usr/local/lib/python3.7/dist-packages (from matplotlib>=2.2->seaborn) (2.4.7)\n",
            "Requirement already satisfied: python-dateutil>=2.1 in /usr/local/lib/python3.7/dist-packages (from matplotlib>=2.2->seaborn) (2.8.2)\n",
            "Requirement already satisfied: cycler>=0.10 in /usr/local/lib/python3.7/dist-packages (from matplotlib>=2.2->seaborn) (0.10.0)\n",
            "Requirement already satisfied: kiwisolver>=1.0.1 in /usr/local/lib/python3.7/dist-packages (from matplotlib>=2.2->seaborn) (1.3.1)\n",
            "Requirement already satisfied: six in /usr/local/lib/python3.7/dist-packages (from cycler>=0.10->matplotlib>=2.2->seaborn) (1.15.0)\n",
            "Requirement already satisfied: pytz>=2017.2 in /usr/local/lib/python3.7/dist-packages (from pandas>=0.23->seaborn) (2018.9)\n"
          ]
        }
      ]
    },
    {
      "cell_type": "markdown",
      "metadata": {
        "id": "aLSOL5uPCerd"
      },
      "source": [
        "#Base de Dados"
      ]
    },
    {
      "cell_type": "code",
      "metadata": {
        "id": "DYZjGVMs8OXs",
        "colab": {
          "base_uri": "https://localhost:8080/",
          "height": 0
        },
        "outputId": "9e9564bd-8c19-4a48-a231-7b71c79de3e2"
      },
      "source": [
        "url = 'https://raw.githubusercontent.com/strawndri/data-visualization/main/Data/tips.csv'\n",
        "dados = pd.read_csv(url)\n",
        "dados.head()"
      ],
      "execution_count": 4,
      "outputs": [
        {
          "output_type": "execute_result",
          "data": {
            "text/html": [
              "<div>\n",
              "<style scoped>\n",
              "    .dataframe tbody tr th:only-of-type {\n",
              "        vertical-align: middle;\n",
              "    }\n",
              "\n",
              "    .dataframe tbody tr th {\n",
              "        vertical-align: top;\n",
              "    }\n",
              "\n",
              "    .dataframe thead th {\n",
              "        text-align: right;\n",
              "    }\n",
              "</style>\n",
              "<table border=\"1\" class=\"dataframe\">\n",
              "  <thead>\n",
              "    <tr style=\"text-align: right;\">\n",
              "      <th></th>\n",
              "      <th>total_bill</th>\n",
              "      <th>tip</th>\n",
              "      <th>dessert</th>\n",
              "      <th>day</th>\n",
              "      <th>time</th>\n",
              "      <th>size</th>\n",
              "    </tr>\n",
              "  </thead>\n",
              "  <tbody>\n",
              "    <tr>\n",
              "      <th>0</th>\n",
              "      <td>16.99</td>\n",
              "      <td>1.01</td>\n",
              "      <td>No</td>\n",
              "      <td>Sun</td>\n",
              "      <td>Dinner</td>\n",
              "      <td>2</td>\n",
              "    </tr>\n",
              "    <tr>\n",
              "      <th>1</th>\n",
              "      <td>10.34</td>\n",
              "      <td>1.66</td>\n",
              "      <td>No</td>\n",
              "      <td>Sun</td>\n",
              "      <td>Dinner</td>\n",
              "      <td>3</td>\n",
              "    </tr>\n",
              "    <tr>\n",
              "      <th>2</th>\n",
              "      <td>21.01</td>\n",
              "      <td>3.50</td>\n",
              "      <td>No</td>\n",
              "      <td>Sun</td>\n",
              "      <td>Dinner</td>\n",
              "      <td>3</td>\n",
              "    </tr>\n",
              "    <tr>\n",
              "      <th>3</th>\n",
              "      <td>23.68</td>\n",
              "      <td>3.31</td>\n",
              "      <td>No</td>\n",
              "      <td>Sun</td>\n",
              "      <td>Dinner</td>\n",
              "      <td>2</td>\n",
              "    </tr>\n",
              "    <tr>\n",
              "      <th>4</th>\n",
              "      <td>24.59</td>\n",
              "      <td>3.61</td>\n",
              "      <td>No</td>\n",
              "      <td>Sun</td>\n",
              "      <td>Dinner</td>\n",
              "      <td>4</td>\n",
              "    </tr>\n",
              "  </tbody>\n",
              "</table>\n",
              "</div>"
            ],
            "text/plain": [
              "   total_bill   tip dessert  day    time  size\n",
              "0       16.99  1.01      No  Sun  Dinner     2\n",
              "1       10.34  1.66      No  Sun  Dinner     3\n",
              "2       21.01  3.50      No  Sun  Dinner     3\n",
              "3       23.68  3.31      No  Sun  Dinner     2\n",
              "4       24.59  3.61      No  Sun  Dinner     4"
            ]
          },
          "metadata": {},
          "execution_count": 4
        }
      ]
    },
    {
      "cell_type": "markdown",
      "metadata": {
        "id": "fcxYJfujDI_m"
      },
      "source": [
        "# Tradução"
      ]
    },
    {
      "cell_type": "markdown",
      "metadata": {
        "id": "WdJdvjAvFABG"
      },
      "source": [
        "##Colunas"
      ]
    },
    {
      "cell_type": "code",
      "metadata": {
        "colab": {
          "base_uri": "https://localhost:8080/"
        },
        "id": "_-iTnR0AD5AT",
        "outputId": "411482a9-128c-46b2-952b-71fc385a87d6"
      },
      "source": [
        "dados.columns"
      ],
      "execution_count": 5,
      "outputs": [
        {
          "output_type": "execute_result",
          "data": {
            "text/plain": [
              "Index(['total_bill', 'tip', 'dessert', 'day', 'time', 'size'], dtype='object')"
            ]
          },
          "metadata": {},
          "execution_count": 5
        }
      ]
    },
    {
      "cell_type": "code",
      "metadata": {
        "id": "hgSqkl5hDLSZ"
      },
      "source": [
        "renomear = {'total_bill': 'valor_da_conta',\n",
        "            'tip': 'gorjeta',\n",
        "            'dessert': 'sobremesa',\n",
        "            'day': 'dia_da_semana',\n",
        "            'time': 'horario',\n",
        "            'size': 'total_pessoas'}"
      ],
      "execution_count": 6,
      "outputs": []
    },
    {
      "cell_type": "code",
      "metadata": {
        "id": "lurTEIXmEQuJ"
      },
      "source": [
        "gorjetas = dados.rename(columns = renomear)"
      ],
      "execution_count": 7,
      "outputs": []
    },
    {
      "cell_type": "code",
      "metadata": {
        "colab": {
          "base_uri": "https://localhost:8080/",
          "height": 0
        },
        "id": "rUz6vV0nEVU4",
        "outputId": "48d5a776-5892-467d-d383-30d19bc1b388"
      },
      "source": [
        "gorjetas.head()"
      ],
      "execution_count": 8,
      "outputs": [
        {
          "output_type": "execute_result",
          "data": {
            "text/html": [
              "<div>\n",
              "<style scoped>\n",
              "    .dataframe tbody tr th:only-of-type {\n",
              "        vertical-align: middle;\n",
              "    }\n",
              "\n",
              "    .dataframe tbody tr th {\n",
              "        vertical-align: top;\n",
              "    }\n",
              "\n",
              "    .dataframe thead th {\n",
              "        text-align: right;\n",
              "    }\n",
              "</style>\n",
              "<table border=\"1\" class=\"dataframe\">\n",
              "  <thead>\n",
              "    <tr style=\"text-align: right;\">\n",
              "      <th></th>\n",
              "      <th>valor_da_conta</th>\n",
              "      <th>gorjeta</th>\n",
              "      <th>sobremesa</th>\n",
              "      <th>dia_da_semana</th>\n",
              "      <th>horario</th>\n",
              "      <th>total_pessoas</th>\n",
              "    </tr>\n",
              "  </thead>\n",
              "  <tbody>\n",
              "    <tr>\n",
              "      <th>0</th>\n",
              "      <td>16.99</td>\n",
              "      <td>1.01</td>\n",
              "      <td>No</td>\n",
              "      <td>Sun</td>\n",
              "      <td>Dinner</td>\n",
              "      <td>2</td>\n",
              "    </tr>\n",
              "    <tr>\n",
              "      <th>1</th>\n",
              "      <td>10.34</td>\n",
              "      <td>1.66</td>\n",
              "      <td>No</td>\n",
              "      <td>Sun</td>\n",
              "      <td>Dinner</td>\n",
              "      <td>3</td>\n",
              "    </tr>\n",
              "    <tr>\n",
              "      <th>2</th>\n",
              "      <td>21.01</td>\n",
              "      <td>3.50</td>\n",
              "      <td>No</td>\n",
              "      <td>Sun</td>\n",
              "      <td>Dinner</td>\n",
              "      <td>3</td>\n",
              "    </tr>\n",
              "    <tr>\n",
              "      <th>3</th>\n",
              "      <td>23.68</td>\n",
              "      <td>3.31</td>\n",
              "      <td>No</td>\n",
              "      <td>Sun</td>\n",
              "      <td>Dinner</td>\n",
              "      <td>2</td>\n",
              "    </tr>\n",
              "    <tr>\n",
              "      <th>4</th>\n",
              "      <td>24.59</td>\n",
              "      <td>3.61</td>\n",
              "      <td>No</td>\n",
              "      <td>Sun</td>\n",
              "      <td>Dinner</td>\n",
              "      <td>4</td>\n",
              "    </tr>\n",
              "  </tbody>\n",
              "</table>\n",
              "</div>"
            ],
            "text/plain": [
              "   valor_da_conta  gorjeta sobremesa dia_da_semana horario  total_pessoas\n",
              "0           16.99     1.01        No           Sun  Dinner              2\n",
              "1           10.34     1.66        No           Sun  Dinner              3\n",
              "2           21.01     3.50        No           Sun  Dinner              3\n",
              "3           23.68     3.31        No           Sun  Dinner              2\n",
              "4           24.59     3.61        No           Sun  Dinner              4"
            ]
          },
          "metadata": {},
          "execution_count": 8
        }
      ]
    },
    {
      "cell_type": "markdown",
      "metadata": {
        "id": "Eim9pD5MFCls"
      },
      "source": [
        "##Linhas"
      ]
    },
    {
      "cell_type": "code",
      "metadata": {
        "colab": {
          "base_uri": "https://localhost:8080/"
        },
        "id": "TAcsS9wuEWjS",
        "outputId": "595d152c-0d71-4d42-df6b-978e8474c2c8"
      },
      "source": [
        "gorjetas.sobremesa.unique()"
      ],
      "execution_count": 9,
      "outputs": [
        {
          "output_type": "execute_result",
          "data": {
            "text/plain": [
              "array(['No', 'Yes'], dtype=object)"
            ]
          },
          "metadata": {},
          "execution_count": 9
        }
      ]
    },
    {
      "cell_type": "code",
      "metadata": {
        "id": "Kt9ZP0kbFNJ1"
      },
      "source": [
        "valores_sobremesa = {\n",
        "    'No': 'Não',\n",
        "    'Yes': 'Sim'\n",
        "}\n",
        "\n",
        "gorjetas.sobremesa = gorjetas.sobremesa.map(valores_sobremesa)"
      ],
      "execution_count": 10,
      "outputs": []
    },
    {
      "cell_type": "markdown",
      "metadata": {
        "id": "Mu9OykmBFfyJ"
      },
      "source": [
        "\n",
        "\n",
        "---\n",
        "\n"
      ]
    },
    {
      "cell_type": "code",
      "metadata": {
        "colab": {
          "base_uri": "https://localhost:8080/"
        },
        "id": "ZeQA-b_0FXFG",
        "outputId": "3d7c635b-e512-4c51-bd90-462a16b4ed05"
      },
      "source": [
        "gorjetas.dia_da_semana.unique()"
      ],
      "execution_count": 11,
      "outputs": [
        {
          "output_type": "execute_result",
          "data": {
            "text/plain": [
              "array(['Sun', 'Sat', 'Thur', 'Fri'], dtype=object)"
            ]
          },
          "metadata": {},
          "execution_count": 11
        }
      ]
    },
    {
      "cell_type": "code",
      "metadata": {
        "id": "jJEfM60aFj4y"
      },
      "source": [
        "valores_dia_da_semana = {'Sun': 'Domingo', \n",
        "                         'Sat': 'Sábado',\n",
        "                         'Thur': 'Quinta',\n",
        "                         'Fri': 'Sexta'\n",
        "}\n",
        "\n",
        "gorjetas.dia_da_semana = gorjetas.dia_da_semana.map(valores_dia_da_semana)"
      ],
      "execution_count": 12,
      "outputs": []
    },
    {
      "cell_type": "markdown",
      "metadata": {
        "id": "KdHSGgfHF7kk"
      },
      "source": [
        "\n",
        "\n",
        "---\n",
        "\n"
      ]
    },
    {
      "cell_type": "code",
      "metadata": {
        "colab": {
          "base_uri": "https://localhost:8080/"
        },
        "id": "cC0NZmBiF6vg",
        "outputId": "9c870378-57f6-48a8-dd53-ea03902caf31"
      },
      "source": [
        "gorjetas.horario.unique()"
      ],
      "execution_count": 13,
      "outputs": [
        {
          "output_type": "execute_result",
          "data": {
            "text/plain": [
              "array(['Dinner', 'Lunch'], dtype=object)"
            ]
          },
          "metadata": {},
          "execution_count": 13
        }
      ]
    },
    {
      "cell_type": "code",
      "metadata": {
        "id": "o83knM6BGCCE"
      },
      "source": [
        "valores_horario = {\n",
        "    'Dinner': 'Janta',\n",
        "     'Lunch': 'Almoço'\n",
        "}\n",
        "\n",
        "gorjetas.horario = gorjetas.horario.map(valores_horario)"
      ],
      "execution_count": 14,
      "outputs": []
    },
    {
      "cell_type": "code",
      "metadata": {
        "colab": {
          "base_uri": "https://localhost:8080/",
          "height": 0
        },
        "id": "w_cl3RkNGNHq",
        "outputId": "0774ca57-8c44-4689-831b-0842ce1dab6b"
      },
      "source": [
        "gorjetas.head()"
      ],
      "execution_count": 15,
      "outputs": [
        {
          "output_type": "execute_result",
          "data": {
            "text/html": [
              "<div>\n",
              "<style scoped>\n",
              "    .dataframe tbody tr th:only-of-type {\n",
              "        vertical-align: middle;\n",
              "    }\n",
              "\n",
              "    .dataframe tbody tr th {\n",
              "        vertical-align: top;\n",
              "    }\n",
              "\n",
              "    .dataframe thead th {\n",
              "        text-align: right;\n",
              "    }\n",
              "</style>\n",
              "<table border=\"1\" class=\"dataframe\">\n",
              "  <thead>\n",
              "    <tr style=\"text-align: right;\">\n",
              "      <th></th>\n",
              "      <th>valor_da_conta</th>\n",
              "      <th>gorjeta</th>\n",
              "      <th>sobremesa</th>\n",
              "      <th>dia_da_semana</th>\n",
              "      <th>horario</th>\n",
              "      <th>total_pessoas</th>\n",
              "    </tr>\n",
              "  </thead>\n",
              "  <tbody>\n",
              "    <tr>\n",
              "      <th>0</th>\n",
              "      <td>16.99</td>\n",
              "      <td>1.01</td>\n",
              "      <td>Não</td>\n",
              "      <td>Domingo</td>\n",
              "      <td>Janta</td>\n",
              "      <td>2</td>\n",
              "    </tr>\n",
              "    <tr>\n",
              "      <th>1</th>\n",
              "      <td>10.34</td>\n",
              "      <td>1.66</td>\n",
              "      <td>Não</td>\n",
              "      <td>Domingo</td>\n",
              "      <td>Janta</td>\n",
              "      <td>3</td>\n",
              "    </tr>\n",
              "    <tr>\n",
              "      <th>2</th>\n",
              "      <td>21.01</td>\n",
              "      <td>3.50</td>\n",
              "      <td>Não</td>\n",
              "      <td>Domingo</td>\n",
              "      <td>Janta</td>\n",
              "      <td>3</td>\n",
              "    </tr>\n",
              "    <tr>\n",
              "      <th>3</th>\n",
              "      <td>23.68</td>\n",
              "      <td>3.31</td>\n",
              "      <td>Não</td>\n",
              "      <td>Domingo</td>\n",
              "      <td>Janta</td>\n",
              "      <td>2</td>\n",
              "    </tr>\n",
              "    <tr>\n",
              "      <th>4</th>\n",
              "      <td>24.59</td>\n",
              "      <td>3.61</td>\n",
              "      <td>Não</td>\n",
              "      <td>Domingo</td>\n",
              "      <td>Janta</td>\n",
              "      <td>4</td>\n",
              "    </tr>\n",
              "  </tbody>\n",
              "</table>\n",
              "</div>"
            ],
            "text/plain": [
              "   valor_da_conta  gorjeta sobremesa dia_da_semana horario  total_pessoas\n",
              "0           16.99     1.01       Não       Domingo   Janta              2\n",
              "1           10.34     1.66       Não       Domingo   Janta              3\n",
              "2           21.01     3.50       Não       Domingo   Janta              3\n",
              "3           23.68     3.31       Não       Domingo   Janta              2\n",
              "4           24.59     3.61       Não       Domingo   Janta              4"
            ]
          },
          "metadata": {},
          "execution_count": 15
        }
      ]
    },
    {
      "cell_type": "markdown",
      "metadata": {
        "id": "mUywRsXliOu9"
      },
      "source": [
        "# Análise I"
      ]
    },
    {
      "cell_type": "code",
      "metadata": {
        "id": "7vGMzsrmGS9W",
        "outputId": "3ac39918-6c8c-4e53-d165-5f80b66ea698",
        "colab": {
          "base_uri": "https://localhost:8080/",
          "height": 204
        }
      },
      "source": [
        "gorjetas.head()"
      ],
      "execution_count": 16,
      "outputs": [
        {
          "output_type": "execute_result",
          "data": {
            "text/html": [
              "<div>\n",
              "<style scoped>\n",
              "    .dataframe tbody tr th:only-of-type {\n",
              "        vertical-align: middle;\n",
              "    }\n",
              "\n",
              "    .dataframe tbody tr th {\n",
              "        vertical-align: top;\n",
              "    }\n",
              "\n",
              "    .dataframe thead th {\n",
              "        text-align: right;\n",
              "    }\n",
              "</style>\n",
              "<table border=\"1\" class=\"dataframe\">\n",
              "  <thead>\n",
              "    <tr style=\"text-align: right;\">\n",
              "      <th></th>\n",
              "      <th>valor_da_conta</th>\n",
              "      <th>gorjeta</th>\n",
              "      <th>sobremesa</th>\n",
              "      <th>dia_da_semana</th>\n",
              "      <th>horario</th>\n",
              "      <th>total_pessoas</th>\n",
              "    </tr>\n",
              "  </thead>\n",
              "  <tbody>\n",
              "    <tr>\n",
              "      <th>0</th>\n",
              "      <td>16.99</td>\n",
              "      <td>1.01</td>\n",
              "      <td>Não</td>\n",
              "      <td>Domingo</td>\n",
              "      <td>Janta</td>\n",
              "      <td>2</td>\n",
              "    </tr>\n",
              "    <tr>\n",
              "      <th>1</th>\n",
              "      <td>10.34</td>\n",
              "      <td>1.66</td>\n",
              "      <td>Não</td>\n",
              "      <td>Domingo</td>\n",
              "      <td>Janta</td>\n",
              "      <td>3</td>\n",
              "    </tr>\n",
              "    <tr>\n",
              "      <th>2</th>\n",
              "      <td>21.01</td>\n",
              "      <td>3.50</td>\n",
              "      <td>Não</td>\n",
              "      <td>Domingo</td>\n",
              "      <td>Janta</td>\n",
              "      <td>3</td>\n",
              "    </tr>\n",
              "    <tr>\n",
              "      <th>3</th>\n",
              "      <td>23.68</td>\n",
              "      <td>3.31</td>\n",
              "      <td>Não</td>\n",
              "      <td>Domingo</td>\n",
              "      <td>Janta</td>\n",
              "      <td>2</td>\n",
              "    </tr>\n",
              "    <tr>\n",
              "      <th>4</th>\n",
              "      <td>24.59</td>\n",
              "      <td>3.61</td>\n",
              "      <td>Não</td>\n",
              "      <td>Domingo</td>\n",
              "      <td>Janta</td>\n",
              "      <td>4</td>\n",
              "    </tr>\n",
              "  </tbody>\n",
              "</table>\n",
              "</div>"
            ],
            "text/plain": [
              "   valor_da_conta  gorjeta sobremesa dia_da_semana horario  total_pessoas\n",
              "0           16.99     1.01       Não       Domingo   Janta              2\n",
              "1           10.34     1.66       Não       Domingo   Janta              3\n",
              "2           21.01     3.50       Não       Domingo   Janta              3\n",
              "3           23.68     3.31       Não       Domingo   Janta              2\n",
              "4           24.59     3.61       Não       Domingo   Janta              4"
            ]
          },
          "metadata": {},
          "execution_count": 16
        }
      ]
    },
    {
      "cell_type": "code",
      "metadata": {
        "id": "KyczAEYUjLNb",
        "outputId": "b786de40-609a-4bbc-8324-d251860ed465",
        "colab": {
          "base_uri": "https://localhost:8080/",
          "height": 280
        }
      },
      "source": [
        "valor_gorjeta = sns.scatterplot(x='valor_da_conta', y='gorjeta', data=gorjetas)"
      ],
      "execution_count": 19,
      "outputs": [
        {
          "output_type": "display_data",
          "data": {
            "image/png": "[encoded data removed]",
            "text/plain": [
              "<Figure size 432x288 with 1 Axes>"
            ]
          },
          "metadata": {
            "needs_background": "light"
          }
        }
      ]
    },
    {
      "cell_type": "markdown",
      "metadata": {
        "id": "8YhUU5zQjvOT"
      },
      "source": [
        "Quanto maior é o valor da conta paga, maior é a taxa de gorjeta."
      ]
    },
    {
      "cell_type": "markdown",
      "metadata": {
        "id": "9ipt7NBCkBMK"
      },
      "source": [
        "## Quantidade de resultados"
      ]
    },
    {
      "cell_type": "code",
      "metadata": {
        "id": "c_puSJm-kU7o",
        "outputId": "73eb15da-8a3a-44b2-c39c-fb607488828e",
        "colab": {
          "base_uri": "https://localhost:8080/"
        }
      },
      "source": [
        "gorjetas.count()"
      ],
      "execution_count": 24,
      "outputs": [
        {
          "output_type": "execute_result",
          "data": {
            "text/plain": [
              "valor_da_conta    244\n",
              "gorjeta           244\n",
              "sobremesa         244\n",
              "dia_da_semana     244\n",
              "horario           244\n",
              "total_pessoas     244\n",
              "dtype: int64"
            ]
          },
          "metadata": {},
          "execution_count": 24
        }
      ]
    },
    {
      "cell_type": "code",
      "metadata": {
        "id": "OsYB6TFojc9q",
        "outputId": "4f56bf4d-f66d-427f-d79c-4ff40999801d",
        "colab": {
          "base_uri": "https://localhost:8080/"
        }
      },
      "source": [
        "print(f\"A base de dados contém {gorjetas.shape[0]} casos registrados (corretamente).\")"
      ],
      "execution_count": 25,
      "outputs": [
        {
          "output_type": "stream",
          "name": "stdout",
          "text": [
            "A base de dados contém 244 casos registrados (corretamente).\n"
          ]
        }
      ]
    },
    {
      "cell_type": "markdown",
      "metadata": {
        "id": "x7QGdqp2ks7_"
      },
      "source": [
        "## Porcentagem"
      ]
    },
    {
      "cell_type": "code",
      "metadata": {
        "id": "gBc6iqgakv8c"
      },
      "source": [
        "gorjetas['porcentagem'] = (gorjetas.gorjeta / gorjetas.valor_da_conta).round(2)"
      ],
      "execution_count": 36,
      "outputs": []
    },
    {
      "cell_type": "code",
      "metadata": {
        "id": "Ufjglejzk4Iw",
        "outputId": "ce0b467d-2eed-4d14-af10-48db330424cf",
        "colab": {
          "base_uri": "https://localhost:8080/",
          "height": 204
        }
      },
      "source": [
        "gorjetas.head()"
      ],
      "execution_count": 37,
      "outputs": [
        {
          "output_type": "execute_result",
          "data": {
            "text/html": [
              "<div>\n",
              "<style scoped>\n",
              "    .dataframe tbody tr th:only-of-type {\n",
              "        vertical-align: middle;\n",
              "    }\n",
              "\n",
              "    .dataframe tbody tr th {\n",
              "        vertical-align: top;\n",
              "    }\n",
              "\n",
              "    .dataframe thead th {\n",
              "        text-align: right;\n",
              "    }\n",
              "</style>\n",
              "<table border=\"1\" class=\"dataframe\">\n",
              "  <thead>\n",
              "    <tr style=\"text-align: right;\">\n",
              "      <th></th>\n",
              "      <th>valor_da_conta</th>\n",
              "      <th>gorjeta</th>\n",
              "      <th>sobremesa</th>\n",
              "      <th>dia_da_semana</th>\n",
              "      <th>horario</th>\n",
              "      <th>total_pessoas</th>\n",
              "      <th>Porcentagem</th>\n",
              "      <th>porcentagem</th>\n",
              "    </tr>\n",
              "  </thead>\n",
              "  <tbody>\n",
              "    <tr>\n",
              "      <th>0</th>\n",
              "      <td>16.99</td>\n",
              "      <td>1.01</td>\n",
              "      <td>Não</td>\n",
              "      <td>Domingo</td>\n",
              "      <td>Janta</td>\n",
              "      <td>2</td>\n",
              "      <td>0.06</td>\n",
              "      <td>0.06</td>\n",
              "    </tr>\n",
              "    <tr>\n",
              "      <th>1</th>\n",
              "      <td>10.34</td>\n",
              "      <td>1.66</td>\n",
              "      <td>Não</td>\n",
              "      <td>Domingo</td>\n",
              "      <td>Janta</td>\n",
              "      <td>3</td>\n",
              "      <td>0.16</td>\n",
              "      <td>0.16</td>\n",
              "    </tr>\n",
              "    <tr>\n",
              "      <th>2</th>\n",
              "      <td>21.01</td>\n",
              "      <td>3.50</td>\n",
              "      <td>Não</td>\n",
              "      <td>Domingo</td>\n",
              "      <td>Janta</td>\n",
              "      <td>3</td>\n",
              "      <td>0.17</td>\n",
              "      <td>0.17</td>\n",
              "    </tr>\n",
              "    <tr>\n",
              "      <th>3</th>\n",
              "      <td>23.68</td>\n",
              "      <td>3.31</td>\n",
              "      <td>Não</td>\n",
              "      <td>Domingo</td>\n",
              "      <td>Janta</td>\n",
              "      <td>2</td>\n",
              "      <td>0.14</td>\n",
              "      <td>0.14</td>\n",
              "    </tr>\n",
              "    <tr>\n",
              "      <th>4</th>\n",
              "      <td>24.59</td>\n",
              "      <td>3.61</td>\n",
              "      <td>Não</td>\n",
              "      <td>Domingo</td>\n",
              "      <td>Janta</td>\n",
              "      <td>4</td>\n",
              "      <td>0.15</td>\n",
              "      <td>0.15</td>\n",
              "    </tr>\n",
              "  </tbody>\n",
              "</table>\n",
              "</div>"
            ],
            "text/plain": [
              "   valor_da_conta  gorjeta sobremesa  ... total_pessoas Porcentagem  porcentagem\n",
              "0           16.99     1.01       Não  ...             2        0.06         0.06\n",
              "1           10.34     1.66       Não  ...             3        0.16         0.16\n",
              "2           21.01     3.50       Não  ...             3        0.17         0.17\n",
              "3           23.68     3.31       Não  ...             2        0.14         0.14\n",
              "4           24.59     3.61       Não  ...             4        0.15         0.15\n",
              "\n",
              "[5 rows x 8 columns]"
            ]
          },
          "metadata": {},
          "execution_count": 37
        }
      ]
    },
    {
      "cell_type": "markdown",
      "metadata": {
        "id": "45KAVPfmlKU9"
      },
      "source": [
        "### Gráfico I"
      ]
    },
    {
      "cell_type": "code",
      "metadata": {
        "id": "7St1D2yUk5nc",
        "outputId": "33c23112-5841-4b1a-cd4e-83dfd0a90cb6",
        "colab": {
          "base_uri": "https://localhost:8080/",
          "height": 280
        }
      },
      "source": [
        "porcentagem_conta = sns.scatterplot(x=\"valor_da_conta\", y=\"porcentagem\", data=gorjetas)"
      ],
      "execution_count": 38,
      "outputs": [
        {
          "output_type": "display_data",
          "data": {
            "image/png": "[encoded data removed]",
            "text/plain": [
              "<Figure size 432x288 with 1 Axes>"
            ]
          },
          "metadata": {
            "needs_background": "light"
          }
        }
      ]
    },
    {
      "cell_type": "markdown",
      "metadata": {
        "id": "fRn11wgHlaAb"
      },
      "source": [
        "Percebe-se que o valor pago não é proporcional a porcentagem, que está relacionando o **valor da conta** e a **gorjeta**."
      ]
    },
    {
      "cell_type": "markdown",
      "metadata": {
        "id": "yHAKAjRrl7GL"
      },
      "source": [
        "### Gráfico II"
      ]
    },
    {
      "cell_type": "code",
      "metadata": {
        "colab": {
          "base_uri": "https://localhost:8080/",
          "height": 384
        },
        "id": "eME0-6aRlSG7",
        "outputId": "47b2443f-ad87-4c7c-a8a4-53809111bc19"
      },
      "source": [
        "porcentagem_conta2 = sns.relplot(x=\"valor_da_conta\", y=\"porcentagem\", kind=\"line\", data=gorjetas)"
      ],
      "execution_count": 41,
      "outputs": [
        {
          "output_type": "display_data",
          "data": {
            "image/png": "[encoded data removed]",
            "text/plain": [
              "<Figure size 360x360 with 1 Axes>"
            ]
          },
          "metadata": {
            "needs_background": "light"
          }
        }
      ]
    },
    {
      "cell_type": "markdown",
      "metadata": {
        "id": "18XMasPfmX9W"
      },
      "source": [
        ""
      ]
    },
    {
      "cell_type": "markdown",
      "metadata": {
        "id": "LZERs-I8mYJB"
      },
      "source": [
        "### Gráfico III"
      ]
    },
    {
      "cell_type": "code",
      "metadata": {
        "colab": {
          "base_uri": "https://localhost:8080/",
          "height": 384
        },
        "id": "yXJAPChlmYJC",
        "outputId": "fda6576c-c671-4e6a-8029-0afb7135c0e6"
      },
      "source": [
        "porcentagem_conta3 = sns.lmplot(x=\"valor_da_conta\", y=\"porcentagem\", data=gorjetas)"
      ],
      "execution_count": 43,
      "outputs": [
        {
          "output_type": "display_data",
          "data": {
            "image/png": "[encoded data removed]",
            "text/plain": [
              "<Figure size 360x360 with 1 Axes>"
            ]
          },
          "metadata": {
            "needs_background": "light"
          }
        }
      ]
    },
    {
      "cell_type": "code",
      "metadata": {
        "id": "mGAIwz-DmJYd"
      },
      "source": [
        ""
      ],
      "execution_count": null,
      "outputs": []
    }
  ]
}